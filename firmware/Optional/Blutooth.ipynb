{
 "cells": [
  {
   "cell_type": "code",
   "execution_count": null,
   "id": "5df420f5",
   "metadata": {},
   "outputs": [],
   "source": [
    "import serial"
   ]
  },
  {
   "cell_type": "code",
   "execution_count": null,
   "id": "25029903",
   "metadata": {},
   "outputs": [],
   "source": [
    "RGBcircuit = serial.Serial(\"COM4\", baudrate=9600, timeout=1)"
   ]
  },
  {
   "cell_type": "code",
   "execution_count": null,
   "id": "0c13d894",
   "metadata": {},
   "outputs": [],
   "source": [
    "while True:\n",
    "    data = RGBcircuit.readline().decode()[:-2]\n",
    "    if len(data):\n",
    "        print(data)"
   ]
  },
  {
   "cell_type": "code",
   "execution_count": null,
   "id": "38fa5f06",
   "metadata": {},
   "outputs": [],
   "source": [
    "RGBcircuit.write(\"*\".encode('utf-8'))"
   ]
  },
  {
   "cell_type": "code",
   "execution_count": null,
   "id": "5ae0965f",
   "metadata": {},
   "outputs": [],
   "source": [
    "RGBcircuit.close()"
   ]
  },
  {
   "cell_type": "code",
   "execution_count": null,
   "id": "61788a3c",
   "metadata": {},
   "outputs": [],
   "source": []
  }
 ],
 "metadata": {
  "kernelspec": {
   "display_name": "Python 3",
   "language": "python",
   "name": "python3"
  },
  "language_info": {
   "codemirror_mode": {
    "name": "ipython",
    "version": 3
   },
   "file_extension": ".py",
   "mimetype": "text/x-python",
   "name": "python",
   "nbconvert_exporter": "python",
   "pygments_lexer": "ipython3",
   "version": "3.9.2"
  }
 },
 "nbformat": 4,
 "nbformat_minor": 5
}
