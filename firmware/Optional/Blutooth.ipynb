{
 "cells": [
  {
   "cell_type": "code",
   "execution_count": 4,
   "id": "5df420f5",
   "metadata": {},
   "outputs": [],
   "source": [
    "import serial\n",
    "import numpy as np"
   ]
  },
  {
   "cell_type": "code",
   "execution_count": 2,
   "id": "25029903",
   "metadata": {},
   "outputs": [],
   "source": [
    "RGBcircuit = serial.Serial(\"COM4\", baudrate=9600, timeout=1)"
   ]
  },
  {
   "cell_type": "code",
   "execution_count": 3,
   "id": "0c13d894",
   "metadata": {},
   "outputs": [
    {
     "ename": "KeyboardInterrupt",
     "evalue": "",
     "output_type": "error",
     "traceback": [
      "\u001b[1;31m---------------------------------------------------------------------------\u001b[0m",
      "\u001b[1;31mKeyboardInterrupt\u001b[0m                         Traceback (most recent call last)",
      "\u001b[1;32m<ipython-input-3-27458006aee7>\u001b[0m in \u001b[0;36m<module>\u001b[1;34m\u001b[0m\n\u001b[0;32m      2\u001b[0m \u001b[1;32mwhile\u001b[0m \u001b[1;32mTrue\u001b[0m\u001b[1;33m:\u001b[0m\u001b[1;33m\u001b[0m\u001b[1;33m\u001b[0m\u001b[0m\n\u001b[0;32m      3\u001b[0m     \u001b[1;32mtry\u001b[0m\u001b[1;33m:\u001b[0m\u001b[1;33m\u001b[0m\u001b[1;33m\u001b[0m\u001b[0m\n\u001b[1;32m----> 4\u001b[1;33m         \u001b[0mdata\u001b[0m \u001b[1;33m=\u001b[0m \u001b[0mlist\u001b[0m\u001b[1;33m(\u001b[0m\u001b[0mmap\u001b[0m\u001b[1;33m(\u001b[0m\u001b[0mint\u001b[0m\u001b[1;33m,\u001b[0m \u001b[0mRGBcircuit\u001b[0m\u001b[1;33m.\u001b[0m\u001b[0mreadline\u001b[0m\u001b[1;33m(\u001b[0m\u001b[1;33m)\u001b[0m\u001b[1;33m.\u001b[0m\u001b[0mdecode\u001b[0m\u001b[1;33m(\u001b[0m\u001b[1;33m)\u001b[0m\u001b[1;33m[\u001b[0m\u001b[1;33m:\u001b[0m\u001b[1;33m-\u001b[0m\u001b[1;36m2\u001b[0m\u001b[1;33m]\u001b[0m\u001b[1;33m)\u001b[0m\u001b[1;33m)\u001b[0m\u001b[1;33m\u001b[0m\u001b[1;33m\u001b[0m\u001b[0m\n\u001b[0m\u001b[0;32m      5\u001b[0m         \u001b[1;32mif\u001b[0m \u001b[0mlen\u001b[0m\u001b[1;33m(\u001b[0m\u001b[0mdata\u001b[0m\u001b[1;33m)\u001b[0m\u001b[1;33m:\u001b[0m\u001b[1;33m\u001b[0m\u001b[1;33m\u001b[0m\u001b[0m\n\u001b[0;32m      6\u001b[0m             \u001b[0mdata\u001b[0m \u001b[1;33m=\u001b[0m \u001b[0mnp\u001b[0m\u001b[1;33m.\u001b[0m\u001b[0marray\u001b[0m\u001b[1;33m(\u001b[0m\u001b[0mdata\u001b[0m\u001b[1;33m,\u001b[0m \u001b[0mdtype\u001b[0m \u001b[1;33m=\u001b[0m \u001b[1;34m'int16'\u001b[0m\u001b[1;33m)\u001b[0m\u001b[1;33m\u001b[0m\u001b[1;33m\u001b[0m\u001b[0m\n",
      "\u001b[1;32m~\\AppData\\Local\\Programs\\Python\\Python39\\lib\\site-packages\\serial\\serialwin32.py\u001b[0m in \u001b[0;36mread\u001b[1;34m(self, size)\u001b[0m\n\u001b[0;32m    286\u001b[0m                 \u001b[1;32mif\u001b[0m \u001b[1;32mnot\u001b[0m \u001b[0mread_ok\u001b[0m \u001b[1;32mand\u001b[0m \u001b[0mwin32\u001b[0m\u001b[1;33m.\u001b[0m\u001b[0mGetLastError\u001b[0m\u001b[1;33m(\u001b[0m\u001b[1;33m)\u001b[0m \u001b[1;32mnot\u001b[0m \u001b[1;32min\u001b[0m \u001b[1;33m(\u001b[0m\u001b[0mwin32\u001b[0m\u001b[1;33m.\u001b[0m\u001b[0mERROR_SUCCESS\u001b[0m\u001b[1;33m,\u001b[0m \u001b[0mwin32\u001b[0m\u001b[1;33m.\u001b[0m\u001b[0mERROR_IO_PENDING\u001b[0m\u001b[1;33m)\u001b[0m\u001b[1;33m:\u001b[0m\u001b[1;33m\u001b[0m\u001b[1;33m\u001b[0m\u001b[0m\n\u001b[0;32m    287\u001b[0m                     \u001b[1;32mraise\u001b[0m \u001b[0mSerialException\u001b[0m\u001b[1;33m(\u001b[0m\u001b[1;34m\"ReadFile failed ({!r})\"\u001b[0m\u001b[1;33m.\u001b[0m\u001b[0mformat\u001b[0m\u001b[1;33m(\u001b[0m\u001b[0mctypes\u001b[0m\u001b[1;33m.\u001b[0m\u001b[0mWinError\u001b[0m\u001b[1;33m(\u001b[0m\u001b[1;33m)\u001b[0m\u001b[1;33m)\u001b[0m\u001b[1;33m)\u001b[0m\u001b[1;33m\u001b[0m\u001b[1;33m\u001b[0m\u001b[0m\n\u001b[1;32m--> 288\u001b[1;33m                 result_ok = win32.GetOverlappedResult(\n\u001b[0m\u001b[0;32m    289\u001b[0m                     \u001b[0mself\u001b[0m\u001b[1;33m.\u001b[0m\u001b[0m_port_handle\u001b[0m\u001b[1;33m,\u001b[0m\u001b[1;33m\u001b[0m\u001b[1;33m\u001b[0m\u001b[0m\n\u001b[0;32m    290\u001b[0m                     \u001b[0mctypes\u001b[0m\u001b[1;33m.\u001b[0m\u001b[0mbyref\u001b[0m\u001b[1;33m(\u001b[0m\u001b[0mself\u001b[0m\u001b[1;33m.\u001b[0m\u001b[0m_overlapped_read\u001b[0m\u001b[1;33m)\u001b[0m\u001b[1;33m,\u001b[0m\u001b[1;33m\u001b[0m\u001b[1;33m\u001b[0m\u001b[0m\n",
      "\u001b[1;31mKeyboardInterrupt\u001b[0m: "
     ]
    }
   ],
   "source": [
    "average_before = 0\n",
    "while True:\n",
    "    try:\n",
    "        data = list(map(int, RGBcircuit.readline().decode()[:-2]))\n",
    "        if len(data):\n",
    "            data = np.array(data, dtype = 'int16')\n",
    "            average = np.mean(data)\n",
    "            if(abs(average - average_before) > 10):\n",
    "                print(data)\n",
    "                average_before = average\n",
    "    except ValueError:\n",
    "        pass"
   ]
  },
  {
   "cell_type": "code",
   "execution_count": null,
   "id": "38fa5f06",
   "metadata": {},
   "outputs": [],
   "source": [
    "RGBcircuit.write(\"*\".encode('utf-8'))"
   ]
  },
  {
   "cell_type": "code",
   "execution_count": null,
   "id": "5ae0965f",
   "metadata": {},
   "outputs": [],
   "source": [
    "RGBcircuit.close()"
   ]
  },
  {
   "cell_type": "code",
   "execution_count": 3,
   "id": "61788a3c",
   "metadata": {},
   "outputs": [
    {
     "data": {
      "text/plain": [
       "24.0"
      ]
     },
     "execution_count": 3,
     "metadata": {},
     "output_type": "execute_result"
    }
   ],
   "source": [
    "np.array([23,24,25]).mean()"
   ]
  },
  {
   "cell_type": "code",
   "execution_count": 1,
   "id": "f4e831df",
   "metadata": {},
   "outputs": [],
   "source": [
    "raw=[[678,608,526],\n",
    "[678,608,526],\n",
    "[679,609,526],\n",
    "[677,607,526],\n",
    "[678,606,526],\n",
    "[678,607,526],\n",
    "[678,606,525],\n",
    "[678,606,526],\n",
    "[678,606,526],\n",
    "[678,606,525],\n",
    "[678,606,525],\n",
    "[677,603,524],\n",
    "[678,605,525],\n",
    "[690,617,529],\n",
    "[714,635,537],\n",
    "[747,672,551],\n",
    "[757,686,555],\n",
    "[782,706,564],\n",
    "[791,714,567],\n",
    "[792,718,568],\n",
    "[793,718,568],\n",
    "[787,712,566],\n",
    "[776,703,562],\n",
    "[777,702,562],\n",
    "[772,696,560],\n",
    "[772,697,560],\n",
    "[746,673,551],\n",
    "[715,642,539],\n",
    "[682,609,526],\n",
    "[655,584,514],\n",
    "[633,561,505],\n",
    "[613,544,497],\n",
    "[602,530,492],\n",
    "[594,525,488],\n",
    "[584,515,483],\n",
    "[580,505,478],\n",
    "[554,491,471],\n",
    "[543,480,465],\n",
    "[536,472,461],\n",
    "[525,463,455],\n",
    "[518,457,452],\n",
    "[507,448,446],\n",
    "[493,436,439],\n",
    "[481,427,433],\n",
    "[468,414,426],\n",
    "[446,402,416],\n",
    "[432,387,410],\n",
    "[413,374,397],\n",
    "[394,363,387],\n",
    "[380,348,378],\n",
    "[364,337,370],\n",
    "[347,328,362],\n",
    "[338,321,355],\n",
    "[330,310,348],\n",
    "[313,305,342],\n",
    "[308,299,337],\n",
    "[307,294,333],\n",
    "[299,289,328],\n",
    "[289,285,320],\n",
    "[279,279,317],\n",
    "[271,272,310],\n",
    "[263,265,305],\n",
    "[253,260,298],\n",
    "[250,256,296],\n",
    "[245,252,293],\n",
    "[239,246,289],\n",
    "[237,244,288],\n",
    "[230,241,282],\n",
    "[225,233,280],\n",
    "[230,235,279],\n",
    "[222,233,274],\n",
    "[213,233,272],\n",
    "[214,228,271],\n",
    "[210,227,267],\n",
    "[207,225,266],\n",
    "[207,223,264],\n",
    "[200,219,260],\n",
    "[199,220,259],\n",
    "[198,220,259],\n",
    "[200,220,255],\n",
    "[191,216,254],\n",
    "[191,213,253],\n",
    "[186,210,250],\n",
    "[187,210,249],\n",
    "[183,207,247],\n",
    "[185,210,247],\n",
    "[183,211,247],\n",
    "[182,205,245],\n",
    "[184,202,244]]"
   ]
  },
  {
   "cell_type": "code",
   "execution_count": 11,
   "id": "82030133",
   "metadata": {},
   "outputs": [
    {
     "name": "stdout",
     "output_type": "stream",
     "text": [
      "[678,608,526,604],\n",
      "[714,635,537,628],\n",
      "[747,672,551,656],\n",
      "[782,706,564,684],\n",
      "[746,673,551,656],\n",
      "[715,642,539,632],\n",
      "[682,609,526,605],\n",
      "[655,584,514,584],\n",
      "[633,561,505,566],\n",
      "[613,544,497,551],\n",
      "[594,525,488,535],\n",
      "[580,505,478,521],\n",
      "[554,491,471,505],\n",
      "[536,472,461,489],\n",
      "[518,457,452,475],\n",
      "[493,436,439,456],\n",
      "[468,414,426,436],\n",
      "[446,402,416,421],\n",
      "[432,387,410,409],\n",
      "[413,374,397,394],\n",
      "[394,363,387,381],\n",
      "[380,348,378,368],\n",
      "[364,337,370,357],\n",
      "[347,328,362,345],\n",
      "[330,310,348,329],\n",
      "[308,299,337,314],\n",
      "[289,285,320,298],\n",
      "[271,272,310,284],\n",
      "[253,260,298,270],\n",
      "[239,246,289,258],\n",
      "[225,233,280,246],\n",
      "[210,227,267,234],\n",
      "[191,216,254,220],\n",
      "[184,202,244,210],\n"
     ]
    }
   ],
   "source": [
    "average_before = 0\n",
    "\n",
    "for data in raw:\n",
    "    data = np.array(data)\n",
    "    average = np.mean(data)\n",
    "    if(abs(average - average_before) > 10):\n",
    "        print(\"[\" + str(data[0]) + \",\" + str(data[1]) + \",\" + str(data[2])+ \",\" + str(int(average)) + \"],\")\n",
    "        average_before = average"
   ]
  },
  {
   "cell_type": "code",
   "execution_count": null,
   "id": "71963ed8",
   "metadata": {},
   "outputs": [],
   "source": []
  }
 ],
 "metadata": {
  "kernelspec": {
   "display_name": "Python 3",
   "language": "python",
   "name": "python3"
  },
  "language_info": {
   "codemirror_mode": {
    "name": "ipython",
    "version": 3
   },
   "file_extension": ".py",
   "mimetype": "text/x-python",
   "name": "python",
   "nbconvert_exporter": "python",
   "pygments_lexer": "ipython3",
   "version": "3.9.2"
  }
 },
 "nbformat": 4,
 "nbformat_minor": 5
}
