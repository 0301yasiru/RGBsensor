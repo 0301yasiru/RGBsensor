{
 "cells": [
  {
   "cell_type": "code",
   "execution_count": 17,
   "id": "97cf8bd4",
   "metadata": {},
   "outputs": [],
   "source": [
    "raw_data = [\n",
    "[0.00,   3.89, 2.43, 2.04],\n",
    "[31.00,  4.53, 2.85, 2.59],\n",
    "[63.00,  5.32, 3.49, 3.36],\n",
    "[95.00,  6.25, 4.28, 4.28],\n",
    "[127.00, 6.50, 4.60, 4.60],\n",
    "[159.00, 6.96, 5.05, 5.07],\n",
    "[191.00, 7.35, 5.51, 5.61],\n",
    "[223.00, 7.95, 6.25, 6.35],\n",
    "[255.00, 8.20, 6.60, 6.73]\n",
    "]"
   ]
  },
  {
   "cell_type": "code",
   "execution_count": 18,
   "id": "fcfee292",
   "metadata": {},
   "outputs": [],
   "source": [
    "def minor(i, k):\n",
    "    arr = [[0,0],[0,0]]\n",
    "    \n",
    "    a=0\n",
    "    for i_ in range(3):\n",
    "        if i_ != i:\n",
    "            \n",
    "            b=0\n",
    "            for k_ in range(3):\n",
    "                if k_ != k:\n",
    "                    arr[a][b] = coeff_mat[i_][k_]\n",
    "                    b += 1\n",
    "            a += 1\n",
    "    \n",
    "    return (arr[0][0]*arr[1][1] - arr[0][1]*arr[1][0]) * (((-1)**i) * ((-1)**k))"
   ]
  },
  {
   "cell_type": "code",
   "execution_count": 19,
   "id": "d89a4f86",
   "metadata": {},
   "outputs": [],
   "source": [
    "def mat_mul(mat_inv, mat_ans):\n",
    "    mat_res = [0,0,0]\n",
    "    \n",
    "    for i in range(3):\n",
    "        for j in range(3):\n",
    "            mat_res[i] += (mat_inv[i][j] * mat_ans[j])\n",
    "    return mat_res"
   ]
  },
  {
   "cell_type": "code",
   "execution_count": 20,
   "id": "d2ad5a0a",
   "metadata": {},
   "outputs": [
    {
     "name": "stdout",
     "output_type": "stream",
     "text": [
      "Answer Matrix\n",
      "[1144, 8269.18, 60756.755999999994]\n",
      "\n",
      "Coefficiant Matrix\n",
      "[[378.17449999999997, 56.95, 9], [2609.204725, 378.17449999999997, 56.95], [18542.847762289995, 2609.204725, 378.17449999999997]]\n",
      "\n",
      "The det ->  -4376.592675668653\n",
      "\n",
      "Invrse Matrix\n",
      "[[1.2745660955637783, -0.4445935215350422, 0.036619354798767954], [-15.829777391225514, 5.453940811778461, -0.4445935215350422], [46.72193628038989, -15.829777391225514, 1.2745660955637783]]\n",
      "\n",
      "--------------------------------------------------------------------------\n",
      "Answer Matrix\n",
      "[1144, 6231.129999999999, 35119.1259]\n",
      "\n",
      "Coefficiant Matrix\n",
      "[[204.171, 41.06, 9], [1083.453734, 204.171, 41.06], [6027.972749339999, 1083.453734, 204.171]]\n",
      "\n",
      "The det ->  -3806.078110276605\n",
      "\n",
      "Invrse Matrix\n",
      "[[0.7358790324028464, -0.3593784221891849, 0.03983507316642572], [-6.909666066069024, 3.3015500835706084, -0.3593784221891849], [14.940636749785842, -6.909666066069024, 0.7358790324028464]]\n",
      "\n",
      "--------------------------------------------------------------------------\n",
      "Answer Matrix\n",
      "[1144, 6292.610000000001, 35986.621100000004]\n",
      "\n",
      "Coefficiant Matrix\n",
      "[[204.4301, 40.629999999999995, 9], [1107.286867, 204.4301, 40.629999999999995], [6301.667725970001, 1107.286867, 204.4301]]\n",
      "\n",
      "The det ->  -7487.53513947071\n",
      "\n",
      "Invrse Matrix\n",
      "[[0.42702966472168213, -0.22164661789050608, 0.02525183474642979], [-3.9631192647413767, 1.9930916476172864, -0.22164661789050608], [8.302646518269128, -3.9631192647413767, 0.42702966472168213]]\n",
      "\n",
      "--------------------------------------------------------------------------\n"
     ]
    }
   ],
   "source": [
    "reg_consts = []\n",
    "\n",
    "for j in range(1,4):\n",
    "\n",
    "    # First of all create the answer matrix\n",
    "    SIG_xy = 0\n",
    "    SIG_xy2 = 0\n",
    "\n",
    "    for row in raw_data:\n",
    "        SIG_xy += row[0]*row[j]\n",
    "        SIG_xy2 += row[0]*(row[j]**2)\n",
    "\n",
    "    ans = [1144, SIG_xy, SIG_xy2]\n",
    "    \n",
    "    print(\"Answer Matrix\")\n",
    "    print(ans, end=\"\\n\\n\")\n",
    "    \n",
    "    # then create the coefficiant matrix\n",
    "    beta = 0\n",
    "    gamma = 0\n",
    "    delta = 0\n",
    "    theta = 0\n",
    "\n",
    "    for row in raw_data:\n",
    "        beta += row[j]\n",
    "        gamma += row[j] ** 2\n",
    "        delta += row[j] ** 3\n",
    "        theta += row[j] ** 4\n",
    "\n",
    "    coeff_mat = [\n",
    "        [gamma, beta, 9],\n",
    "        [delta, gamma, beta],\n",
    "        [theta, delta, gamma]\n",
    "    ]\n",
    "    \n",
    "    print(\"Coefficiant Matrix\")\n",
    "    print(coeff_mat, end=\"\\n\\n\")\n",
    "\n",
    "    # then find the inverse matrix\n",
    "    det = coeff_mat[0][0] * minor(0,0) + coeff_mat[0][1] * minor(0,1) + coeff_mat[0][2] * minor(0,2)\n",
    "    print(\"The det -> \", det, end =\"\\n\\n\")\n",
    "    \n",
    "    inv = [[0,0,0],[0,0,0],[0,0,0]]\n",
    "    for i in range(3):\n",
    "        for k in range(3):\n",
    "            inv[i][k] = minor(k, i)/det\n",
    "\n",
    "    print(\"Invrse Matrix\")\n",
    "    print(inv, end=\"\\n\\n\")\n",
    "    \n",
    "    reg_consts.append(mat_mul(inv, ans))\n",
    "    \n",
    "    print('--------------------------------------------------------------------------')"
   ]
  },
  {
   "cell_type": "code",
   "execution_count": 21,
   "id": "09885a3d",
   "metadata": {},
   "outputs": [
    {
     "data": {
      "text/plain": [
       "[[6.5529613039948345, -21.70716070508206, -10.88222916702216],\n",
       " [1.4848949805768825, 46.67373805102034, -119.51068638392826],\n",
       " [2.514421337210365, 31.627137726753972, -72.78155680513919]]"
      ]
     },
     "execution_count": 21,
     "metadata": {},
     "output_type": "execute_result"
    }
   ],
   "source": [
    "reg_consts\n",
    "\n",
    "# [[0.0007179538674106367, -0.2987612092372274, 4.152048104937421],\n",
    "#  [0.00032514085167836826, 0.28213702986363387, -110.86189144083619],\n",
    "#  [0.00022480304020336406, 0.3395443750429479, -86.8317845485617]]"
   ]
  },
  {
   "cell_type": "code",
   "execution_count": null,
   "id": "944055aa",
   "metadata": {},
   "outputs": [],
   "source": []
  },
  {
   "cell_type": "code",
   "execution_count": null,
   "id": "60ae2554",
   "metadata": {},
   "outputs": [],
   "source": []
  },
  {
   "cell_type": "code",
   "execution_count": null,
   "id": "f526fe48",
   "metadata": {},
   "outputs": [],
   "source": []
  }
 ],
 "metadata": {
  "kernelspec": {
   "display_name": "Python 3",
   "language": "python",
   "name": "python3"
  },
  "language_info": {
   "codemirror_mode": {
    "name": "ipython",
    "version": 3
   },
   "file_extension": ".py",
   "mimetype": "text/x-python",
   "name": "python",
   "nbconvert_exporter": "python",
   "pygments_lexer": "ipython3",
   "version": "3.9.2"
  }
 },
 "nbformat": 4,
 "nbformat_minor": 5
}
