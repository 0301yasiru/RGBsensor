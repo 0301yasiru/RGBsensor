{
 "cells": [
  {
   "cell_type": "code",
   "execution_count": 3,
   "id": "0d69e267",
   "metadata": {},
   "outputs": [],
   "source": [
    "raw_data = [\n",
    "    [0   , 415, 298, 227],\n",
    "    [32  , 480, 349, 283],\n",
    "    [64  , 556, 415, 356],\n",
    "    [96  , 645, 498, 448],\n",
    "    [128 , 670, 525, 479],\n",
    "    [160 , 715, 570, 527],\n",
    "    [192 , 750, 610, 575],\n",
    "    [224 , 806, 677, 649],\n",
    "    [256 , 834, 714, 694]\n",
    "]"
   ]
  },
  {
   "cell_type": "code",
   "execution_count": 4,
   "id": "e857ab41",
   "metadata": {},
   "outputs": [],
   "source": [
    "j=1"
   ]
  },
  {
   "cell_type": "code",
   "execution_count": 69,
   "id": "cb89a2c9",
   "metadata": {},
   "outputs": [],
   "source": [
    "SIG_x = 1152\n",
    "SIG_xy = 0\n",
    "SIG_xy2 = 0\n",
    "\n",
    "for row in raw_data:\n",
    "    SIG_xy += row[0]*row[j]\n",
    "    SIG_xy2 += row[0]*(row[j]**2)\n",
    "        \n",
    "ans = [SIG_x, SIG_xy, SIG_xy2]"
   ]
  },
  {
   "cell_type": "code",
   "execution_count": 64,
   "id": "b6e0daba",
   "metadata": {},
   "outputs": [
    {
     "name": "stdout",
     "output_type": "stream",
     "text": [
      "[[3995603, 5871, 9], [2814145311, 3995603, 5871], [2036481020003, 2814145311, 3995603]]\n"
     ]
    }
   ],
   "source": [
    "alpha = 9\n",
    "beta = 0\n",
    "gamma = 0\n",
    "delta = 0\n",
    "theta = 0\n",
    "\n",
    "for row in raw_data:\n",
    "    beta += row[j]\n",
    "    gamma += row[j] ** 2\n",
    "    delta += row[j] ** 3\n",
    "    theta += row[j] ** 4\n",
    "    \n",
    "coeff_mat = [\n",
    "    [gamma, beta, alpha],\n",
    "    [delta, gamma, beta],\n",
    "    [theta, delta, gamma]\n",
    "]\n",
    "\n",
    "print (coeff_mat)"
   ]
  },
  {
   "cell_type": "code",
   "execution_count": 65,
   "id": "6249730d",
   "metadata": {},
   "outputs": [],
   "source": [
    "det = coeff_mat[0][0] * minor(0,0) + coeff_mat[0][1] * minor(0,1) + coeff_mat[0][2] * minor(0,2)"
   ]
  },
  {
   "cell_type": "code",
   "execution_count": 78,
   "id": "2b9adff8",
   "metadata": {},
   "outputs": [
    {
     "name": "stdout",
     "output_type": "stream",
     "text": [
      "[[0.00015570432979178934, -5.224928199809674e-07, 4.1701249548119654e-10], [-0.19902417608948342, 0.000660686674127025, -5.224928199809674e-07], [60.8153611769216, -0.19902417608948342, 0.00015570432979178934]]\n"
     ]
    }
   ],
   "source": [
    "##Form the adj\n",
    "# adj = [[0,0,0],[0,0,0],[0,0,0]]\n",
    "# for i in range(3):\n",
    "#     for k in range(3):\n",
    "#         adj[i][k] = minor(k, i)\n",
    "        \n",
    "# # find inverse\n",
    "# inv = [[0,0,0],[0,0,0],[0,0,0]]\n",
    "# for i in range(3):\n",
    "#     for k in range(3):\n",
    "#         inv[i][k] = adj[i][k] / det\n",
    "\n",
    "# print(inv)\n",
    "\n",
    "inv = [[0,0,0],[0,0,0],[0,0,0]]\n",
    "for i in range(3):\n",
    "    for k in range(3):\n",
    "        inv[i][k] = minor(k, i)/det\n",
    "\n",
    "print(inv)"
   ]
  },
  {
   "cell_type": "code",
   "execution_count": 73,
   "id": "56713b28",
   "metadata": {},
   "outputs": [],
   "source": [
    "def minor(i, k):\n",
    "    arr = [[0,0],[0,0]]\n",
    "    \n",
    "    a=0\n",
    "    for i_ in range(3):\n",
    "        if i_ != i:\n",
    "            \n",
    "            b=0\n",
    "            for k_ in range(3):\n",
    "                if k_ != k:\n",
    "                    arr[a][b] = coeff_mat[i_][k_]\n",
    "                    b += 1\n",
    "            a += 1\n",
    "    \n",
    "    return (arr[0][0]*arr[1][1] - arr[0][1]*arr[1][0]) * (((-1)**i) * ((-1)**k))"
   ]
  },
  {
   "cell_type": "code",
   "execution_count": 74,
   "id": "d98b7872",
   "metadata": {},
   "outputs": [],
   "source": [
    "def mat_mul(mat_inv, mat_ans):\n",
    "    mat_res = [0,0,0]\n",
    "    \n",
    "    for i in range(3):\n",
    "        for j in range(3):\n",
    "            mat_res[i] += (mat_inv[i][j] * mat_ans[j])\n",
    "    return mat_res"
   ]
  },
  {
   "cell_type": "code",
   "execution_count": 75,
   "id": "5acf5490",
   "metadata": {},
   "outputs": [
    {
     "data": {
      "text/plain": [
       "[0.0007179538674106367, -0.2987612092372274, 4.152048104937421]"
      ]
     },
     "execution_count": 75,
     "metadata": {},
     "output_type": "execute_result"
    }
   ],
   "source": [
    "mat_mul(inv, ans)"
   ]
  },
  {
   "cell_type": "code",
   "execution_count": 80,
   "id": "26271007",
   "metadata": {},
   "outputs": [
    {
     "data": {
      "text/plain": [
       "3.4e+32"
      ]
     },
     "execution_count": 80,
     "metadata": {},
     "output_type": "execute_result"
    }
   ],
   "source": [
    "3.4E38 / 1000000"
   ]
  },
  {
   "cell_type": "code",
   "execution_count": null,
   "id": "acd38897",
   "metadata": {},
   "outputs": [],
   "source": []
  }
 ],
 "metadata": {
  "kernelspec": {
   "display_name": "Python 3",
   "language": "python",
   "name": "python3"
  },
  "language_info": {
   "codemirror_mode": {
    "name": "ipython",
    "version": 3
   },
   "file_extension": ".py",
   "mimetype": "text/x-python",
   "name": "python",
   "nbconvert_exporter": "python",
   "pygments_lexer": "ipython3",
   "version": "3.9.2"
  }
 },
 "nbformat": 4,
 "nbformat_minor": 5
}
