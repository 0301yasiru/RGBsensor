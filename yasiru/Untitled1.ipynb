{
 "cells": [
  {
   "cell_type": "code",
   "execution_count": 16,
   "id": "97cf8bd4",
   "metadata": {},
   "outputs": [],
   "source": [
    "raw_data = [\n",
    "[0.00, 4.26, 2.69, 2.29],\n",
    "[31.00, 4.89, 3.19, 2.86],\n",
    "[63.00, 5.66, 3.87, 3.64],\n",
    "[95.00, 6.56, 4.72, 4.59],\n",
    "[127.00, 6.77, 4.97, 4.87],\n",
    "[159.00, 7.23, 5.48, 5.39],\n",
    "[191.00, 7.57, 5.88, 5.84],\n",
    "[223.00, 8.10, 6.56, 6.55],\n",
    "[255.00, 8.35, 6.90, 6.94]\n",
    "]"
   ]
  },
  {
   "cell_type": "code",
   "execution_count": 17,
   "id": "fcfee292",
   "metadata": {},
   "outputs": [],
   "source": [
    "def minor(i, k):\n",
    "    arr = [[0,0],[0,0]]\n",
    "    \n",
    "    a=0\n",
    "    for i_ in range(3):\n",
    "        if i_ != i:\n",
    "            \n",
    "            b=0\n",
    "            for k_ in range(3):\n",
    "                if k_ != k:\n",
    "                    arr[a][b] = coeff_mat[i_][k_]\n",
    "                    b += 1\n",
    "            a += 1\n",
    "    \n",
    "    return (arr[0][0]*arr[1][1] - arr[0][1]*arr[1][0]) * (((-1)**i) * ((-1)**k))"
   ]
  },
  {
   "cell_type": "code",
   "execution_count": 18,
   "id": "d89a4f86",
   "metadata": {},
   "outputs": [],
   "source": [
    "def mat_mul(mat_inv, mat_ans):\n",
    "    mat_res = [0,0,0]\n",
    "    \n",
    "    for i in range(3):\n",
    "        for j in range(3):\n",
    "            mat_res[i] += (mat_inv[i][j] * mat_ans[j])\n",
    "    return mat_res"
   ]
  },
  {
   "cell_type": "code",
   "execution_count": 19,
   "id": "d2ad5a0a",
   "metadata": {},
   "outputs": [
    {
     "name": "stdout",
     "output_type": "stream",
     "text": [
      "Answer Matrix\n",
      "[1152, 8522.150000000001, 64335.3827]\n",
      "\n",
      "Coefficiant Matrix\n",
      "[[407.87209999999993, 59.39, 9], [2893.504625, 407.87209999999993, 59.39], [21062.15577557, 2893.504625, 407.87209999999993]]\n",
      "\n",
      "The det ->  -3119.7906164601445\n",
      "\n",
      "Invrse Matrix\n",
      "[[1.758319834477942, -0.5827370581884787, 0.046053347055393566], [-22.662297713062987, 7.436317007723916, -0.5827370581884787], [69.97158420207114, -22.662297713062987, 1.758319834477942]]\n",
      "\n",
      "--------------------------------------------------------------------------\n",
      "Answer Matrix\n",
      "[1152, 6639.07, 39628.0529]\n",
      "\n",
      "Coefficiant Matrix\n",
      "[[234.6168, 44.26, 9], [1316.478472, 234.6168, 44.26], [7702.50014388, 1316.478472, 234.6168]]\n",
      "\n",
      "The det ->  -3889.7213230191264\n",
      "\n",
      "Invrse Matrix\n",
      "[[0.8284126447338671, -0.3764194291593986, 0.039232527815527975], [-8.238299697451515, 3.670560759246914, -0.3764194291593986], [19.029735646911924, -8.238299697451515, 0.8284126447338671]]\n",
      "\n",
      "--------------------------------------------------------------------------\n",
      "Answer Matrix\n",
      "[1152, 6575.32, 39084.237199999996]\n",
      "\n",
      "Coefficiant Matrix\n",
      "[[225.6821, 42.97, 9], [1266.869353, 225.6821, 42.97], [7443.88786133, 1266.869353, 225.6821]]\n",
      "\n",
      "The det ->  -6947.8669604811585\n",
      "\n",
      "Invrse Matrix\n",
      "[[0.504466458257755, -0.2452931741056217, 0.026586289151859042], [-4.886985543015837, 2.3118722023496594, -0.2452931741056217], [10.793857678246447, -4.886985543015837, 0.504466458257755]]\n",
      "\n",
      "--------------------------------------------------------------------------\n"
     ]
    }
   ],
   "source": [
    "reg_consts = []\n",
    "\n",
    "for j in range(1,4):\n",
    "\n",
    "    # First of all create the answer matrix\n",
    "    SIG_xy = 0\n",
    "    SIG_xy2 = 0\n",
    "\n",
    "    for row in raw_data:\n",
    "        SIG_xy += row[0]*row[j]\n",
    "        SIG_xy2 += row[0]*(row[j]**2)\n",
    "\n",
    "    ans = [1152, SIG_xy, SIG_xy2]\n",
    "    \n",
    "    print(\"Answer Matrix\")\n",
    "    print(ans, end=\"\\n\\n\")\n",
    "    \n",
    "    # then create the coefficiant matrix\n",
    "    beta = 0\n",
    "    gamma = 0\n",
    "    delta = 0\n",
    "    theta = 0\n",
    "\n",
    "    for row in raw_data:\n",
    "        beta += row[j]\n",
    "        gamma += row[j] ** 2\n",
    "        delta += row[j] ** 3\n",
    "        theta += row[j] ** 4\n",
    "\n",
    "    coeff_mat = [\n",
    "        [gamma, beta, 9],\n",
    "        [delta, gamma, beta],\n",
    "        [theta, delta, gamma]\n",
    "    ]\n",
    "    \n",
    "    print(\"Coefficiant Matrix\")\n",
    "    print(coeff_mat, end=\"\\n\\n\")\n",
    "\n",
    "    # then find the inverse matrix\n",
    "    det = coeff_mat[0][0] * minor(0,0) + coeff_mat[0][1] * minor(0,1) + coeff_mat[0][2] * minor(0,2)\n",
    "    print(\"The det -> \", det, end =\"\\n\\n\")\n",
    "    \n",
    "    inv = [[0,0,0],[0,0,0],[0,0,0]]\n",
    "    for i in range(3):\n",
    "        for k in range(3):\n",
    "            inv[i][k] = minor(k, i)/det\n",
    "\n",
    "    print(\"Invrse Matrix\")\n",
    "    print(inv, end=\"\\n\\n\")\n",
    "    \n",
    "    reg_consts.append(mat_mul(inv, ans))\n",
    "    \n",
    "    print('--------------------------------------------------------------------------')"
   ]
  },
  {
   "cell_type": "code",
   "execution_count": 20,
   "id": "09885a3d",
   "metadata": {},
   "outputs": [
    {
     "data": {
      "text/plain": [
       "[[22.27153630230805, -224.1696301021293, 597.9440055452433],\n",
       " [9.96511485859105, -38.18048288718637, 55.987201425698004],\n",
       " [7.36907783180277, -15.604416285497791, 17.716978627009667]]"
      ]
     },
     "execution_count": 20,
     "metadata": {},
     "output_type": "execute_result"
    }
   ],
   "source": [
    "reg_consts\n",
    "\n",
    "# [[0.0007179538674106367, -0.2987612092372274, 4.152048104937421],\n",
    "#  [0.00032514085167836826, 0.28213702986363387, -110.86189144083619],\n",
    "#  [0.00022480304020336406, 0.3395443750429479, -86.8317845485617]]"
   ]
  },
  {
   "cell_type": "code",
   "execution_count": null,
   "id": "944055aa",
   "metadata": {},
   "outputs": [],
   "source": []
  },
  {
   "cell_type": "code",
   "execution_count": null,
   "id": "60ae2554",
   "metadata": {},
   "outputs": [],
   "source": []
  },
  {
   "cell_type": "code",
   "execution_count": null,
   "id": "f526fe48",
   "metadata": {},
   "outputs": [],
   "source": []
  }
 ],
 "metadata": {
  "kernelspec": {
   "display_name": "Python 3",
   "language": "python",
   "name": "python3"
  },
  "language_info": {
   "codemirror_mode": {
    "name": "ipython",
    "version": 3
   },
   "file_extension": ".py",
   "mimetype": "text/x-python",
   "name": "python",
   "nbconvert_exporter": "python",
   "pygments_lexer": "ipython3",
   "version": "3.9.2"
  }
 },
 "nbformat": 4,
 "nbformat_minor": 5
}
