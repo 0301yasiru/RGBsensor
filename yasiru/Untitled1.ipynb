{
 "cells": [
  {
   "cell_type": "code",
   "execution_count": 36,
   "id": "97cf8bd4",
   "metadata": {},
   "outputs": [],
   "source": [
    "raw_data = [\n",
    "    [0   , 4.15, 2.98, 2.27],\n",
    "    [32  , 4.80, 3.49, 2.83],\n",
    "    [64  , 5.56, 4.15, 3.56],\n",
    "    [96  , 6.45, 4.98, 4.48],\n",
    "    [128 , 6.70, 5.25, 4.79],\n",
    "    [160 , 7.15, 5.70, 5.27],\n",
    "    [192 , 7.50, 6.10, 5.75],\n",
    "    [224 , 8.06, 6.77, 6.49],\n",
    "    [256 , 8.34, 7.14, 6.94]\n",
    "]"
   ]
  },
  {
   "cell_type": "code",
   "execution_count": 37,
   "id": "fcfee292",
   "metadata": {},
   "outputs": [],
   "source": [
    "def minor(i, k):\n",
    "    arr = [[0,0],[0,0]]\n",
    "    \n",
    "    a=0\n",
    "    for i_ in range(3):\n",
    "        if i_ != i:\n",
    "            \n",
    "            b=0\n",
    "            for k_ in range(3):\n",
    "                if k_ != k:\n",
    "                    arr[a][b] = coeff_mat[i_][k_]\n",
    "                    b += 1\n",
    "            a += 1\n",
    "    \n",
    "    return (arr[0][0]*arr[1][1] - arr[0][1]*arr[1][0]) * (((-1)**i) * ((-1)**k))"
   ]
  },
  {
   "cell_type": "code",
   "execution_count": 38,
   "id": "d89a4f86",
   "metadata": {},
   "outputs": [],
   "source": [
    "def mat_mul(mat_inv, mat_ans):\n",
    "    mat_res = [0,0,0]\n",
    "    \n",
    "    for i in range(3):\n",
    "        for j in range(3):\n",
    "            mat_res[i] += (mat_inv[i][j] * mat_ans[j])\n",
    "    return mat_res"
   ]
  },
  {
   "cell_type": "code",
   "execution_count": 43,
   "id": "d2ad5a0a",
   "metadata": {},
   "outputs": [
    {
     "name": "stdout",
     "output_type": "stream",
     "text": [
      "Answer Matrix\n",
      "[1152, 8510.720000000001, 63793.1904]\n",
      "\n",
      "Coefficiant Matrix\n",
      "[[399.5603, 58.709999999999994, 9], [2814.145311, 399.5603, 58.709999999999994], [20364.81020003, 2814.145311, 399.5603]]\n",
      "\n",
      "The det ->  -3577.3172654677182\n",
      "\n",
      "Invrse Matrix\n",
      "[[1.5570432979172053, -0.5224928199807365, 0.041701249548101296], [-19.902417608939402, 6.6068667412673125, -0.5224928199807365], [60.815361176893795, -19.902417608939402, 1.5570432979172053]]\n",
      "\n",
      "--------------------------------------------------------------------------\n",
      "Answer Matrix\n",
      "[1152, 6954.88, 43060.9088]\n",
      "\n",
      "Coefficiant Matrix\n",
      "[[257.15840000000003, 46.56, 9], [1495.11171, 257.15840000000003, 46.56], [9038.340631399999, 1495.11171, 257.15840000000003]]\n",
      "\n",
      "The det ->  -3545.8023821065435\n",
      "\n",
      "Invrse Matrix\n",
      "[[0.9819945253044163, -0.41815931239775556, 0.041342405527098364], [-10.250036724135692, 4.29088295185843, -0.41815931239775556], [25.079285437746062, -10.250036724135692, 0.9819945253044163]]\n",
      "\n",
      "--------------------------------------------------------------------------\n",
      "Answer Matrix\n",
      "[1152, 6539.2, 38487.4464]\n",
      "\n",
      "Coefficiant Matrix\n",
      "[[219.969, 42.379999999999995, 9], [1223.3853080000001, 219.969, 42.379999999999995], [7138.865745180001, 1223.3853080000001, 219.969]]\n",
      "\n",
      "The det ->  -7051.866951433127\n",
      "\n",
      "Invrse Matrix\n",
      "[[0.4907506644515883, -0.23939498059544648, 0.026043684780904238], [-4.741763804616425, 2.2495363078845583, -0.23939498059544648], [10.445113014543624, -4.741763804616425, 0.4907506644515883]]\n",
      "\n",
      "--------------------------------------------------------------------------\n"
     ]
    }
   ],
   "source": [
    "reg_consts = []\n",
    "\n",
    "for j in range(1,4):\n",
    "\n",
    "    # First of all create the answer matrix\n",
    "    SIG_xy = 0\n",
    "    SIG_xy2 = 0\n",
    "\n",
    "    for row in raw_data:\n",
    "        SIG_xy += row[0]*row[j]\n",
    "        SIG_xy2 += row[0]*(row[j]**2)\n",
    "\n",
    "    ans = [1152, SIG_xy, SIG_xy2]\n",
    "    \n",
    "    print(\"Answer Matrix\")\n",
    "    print(ans, end=\"\\n\\n\")\n",
    "    \n",
    "    # then create the coefficiant matrix\n",
    "    beta = 0\n",
    "    gamma = 0\n",
    "    delta = 0\n",
    "    theta = 0\n",
    "\n",
    "    for row in raw_data:\n",
    "        beta += row[j]\n",
    "        gamma += row[j] ** 2\n",
    "        delta += row[j] ** 3\n",
    "        theta += row[j] ** 4\n",
    "\n",
    "    coeff_mat = [\n",
    "        [gamma, beta, 9],\n",
    "        [delta, gamma, beta],\n",
    "        [theta, delta, gamma]\n",
    "    ]\n",
    "    \n",
    "    print(\"Coefficiant Matrix\")\n",
    "    print(coeff_mat, end=\"\\n\\n\")\n",
    "\n",
    "    # then find the inverse matrix\n",
    "    det = coeff_mat[0][0] * minor(0,0) + coeff_mat[0][1] * minor(0,1) + coeff_mat[0][2] * minor(0,2)\n",
    "    print(\"The det -> \", det, end =\"\\n\\n\")\n",
    "    \n",
    "    inv = [[0,0,0],[0,0,0],[0,0,0]]\n",
    "    for i in range(3):\n",
    "        for k in range(3):\n",
    "            inv[i][k] = minor(k, i)/det\n",
    "\n",
    "    print(\"Invrse Matrix\")\n",
    "    print(inv, end=\"\\n\\n\")\n",
    "    \n",
    "    reg_consts.append(mat_mul(inv, ans))\n",
    "    \n",
    "    print('--------------------------------------------------------------------------')"
   ]
  },
  {
   "cell_type": "code",
   "execution_count": 44,
   "id": "09885a3d",
   "metadata": {},
   "outputs": [
    {
     "data": {
      "text/plain": [
       "[[7.17953867410688, -29.876120923690905, 4.15204810508294],\n",
       " [3.251408516783613, 28.213702986380667, -110.86189144061791],\n",
       " [2.2480304020338053, 33.95443750429513, -86.83178454857625]]"
      ]
     },
     "execution_count": 44,
     "metadata": {},
     "output_type": "execute_result"
    }
   ],
   "source": [
    "reg_consts\n",
    "\n",
    "# [[0.0007179538674106367, -0.2987612092372274, 4.152048104937421],\n",
    "#  [0.00032514085167836826, 0.28213702986363387, -110.86189144083619],\n",
    "#  [0.00022480304020336406, 0.3395443750429479, -86.8317845485617]]"
   ]
  },
  {
   "cell_type": "code",
   "execution_count": null,
   "id": "944055aa",
   "metadata": {},
   "outputs": [],
   "source": []
  },
  {
   "cell_type": "code",
   "execution_count": null,
   "id": "60ae2554",
   "metadata": {},
   "outputs": [],
   "source": []
  }
 ],
 "metadata": {
  "kernelspec": {
   "display_name": "Python 3",
   "language": "python",
   "name": "python3"
  },
  "language_info": {
   "codemirror_mode": {
    "name": "ipython",
    "version": 3
   },
   "file_extension": ".py",
   "mimetype": "text/x-python",
   "name": "python",
   "nbconvert_exporter": "python",
   "pygments_lexer": "ipython3",
   "version": "3.9.2"
  }
 },
 "nbformat": 4,
 "nbformat_minor": 5
}
