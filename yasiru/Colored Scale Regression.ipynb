{
 "cells": [
  {
   "cell_type": "code",
   "execution_count": 20,
   "id": "d48877ad",
   "metadata": {},
   "outputs": [],
   "source": [
    "raw_data = [\n",
    "[0.00, 0.00, 0.00, 1.99, 2.49, 3.89],\n",
    "[31.00, 31.00, 31.00, 2.51, 2.95, 4.54],\n",
    "[63.00, 63.00, 63.00, 3.29, 3.59, 5.35],\n",
    "[95.00, 95.00, 95.00, 4.21, 4.40, 6.26],\n",
    "[127.00, 127.00, 127.00, 4.54, 4.72, 6.53],\n",
    "[159.00, 159.00, 159.00, 5.01, 5.18, 6.97],\n",
    "[191.00, 191.00, 191.00, 5.55, 5.64, 7.37],\n",
    "[223.00, 223.00, 223.00, 6.28, 6.35, 7.95],\n",
    "[255.00, 255.00, 255.00, 6.65, 6.66, 8.18]\n",
    "]\n",
    "\n",
    "coeff_mat = []\n",
    "reg_consts = []"
   ]
  },
  {
   "cell_type": "code",
   "execution_count": 21,
   "id": "0684a985",
   "metadata": {},
   "outputs": [],
   "source": [
    "def minor(i, k):\n",
    "    arr = [[0,0],[0,0]]\n",
    "    \n",
    "    a=0\n",
    "    for i_ in range(3):\n",
    "        if i_ != i:\n",
    "            \n",
    "            b=0\n",
    "            for k_ in range(3):\n",
    "                if k_ != k:\n",
    "                    arr[a][b] = coeff_mat[i_][k_]\n",
    "                    b += 1\n",
    "            a += 1\n",
    "    #print(arr)\n",
    "    \n",
    "    return (arr[0][0]*arr[1][1] - arr[0][1]*arr[1][0]) * (((-1)**i) * ((-1)**k))"
   ]
  },
  {
   "cell_type": "code",
   "execution_count": 22,
   "id": "c378efe3",
   "metadata": {},
   "outputs": [],
   "source": [
    "def mat_mul(mat_inv, mat_ans):\n",
    "    mat_res = [0,0,0]\n",
    "    \n",
    "    for i in range(3):\n",
    "        for j in range(3):\n",
    "            mat_res[i] += (mat_inv[i][j] * mat_ans[j])\n",
    "    return mat_res"
   ]
  },
  {
   "cell_type": "code",
   "execution_count": 23,
   "id": "ee7ca261",
   "metadata": {},
   "outputs": [],
   "source": [
    "def regression(grade = 9):\n",
    "    global coeff_mat\n",
    "    global reg_consts\n",
    "\n",
    "    coeff_mat = []\n",
    "    reg_consts = []\n",
    "    \n",
    "    for j in range(3,6):\n",
    "\n",
    "        # First of all create the answer matrix\n",
    "        SIG_x = 0\n",
    "        SIG_xy = 0\n",
    "        SIG_xy2 = 0\n",
    "\n",
    "        for k in range(grade):\n",
    "            SIG_x += raw_data[k][j-3]\n",
    "            SIG_xy += raw_data[k][j-3]*raw_data[k][j]\n",
    "            SIG_xy2 += raw_data[k][j-3]*(raw_data[k][j]**2)\n",
    "\n",
    "        ans = [SIG_x, SIG_xy, SIG_xy2]\n",
    "\n",
    "        print(\"Answer Matrix\")\n",
    "        print(ans, end=\"\\n\\n\")\n",
    "\n",
    "        # then create the coefficiant matrix\n",
    "        beta = 0\n",
    "        gamma = 0\n",
    "        delta = 0\n",
    "        theta = 0\n",
    "\n",
    "        for k in range(grade):\n",
    "            beta  += raw_data[k][j]\n",
    "            gamma += raw_data[k][j] ** 2\n",
    "            delta += raw_data[k][j] ** 3\n",
    "            theta += raw_data[k][j] ** 4\n",
    "\n",
    "        coeff_mat = [\n",
    "            [gamma, beta , grade],\n",
    "            [delta, gamma, beta ],\n",
    "            [theta, delta, gamma]\n",
    "        ]\n",
    "\n",
    "        print(\"Coefficiant Matrix\")\n",
    "        print(coeff_mat, end=\"\\n\\n\")\n",
    "\n",
    "        # then find the inverse matrix\n",
    "        det = coeff_mat[0][0] * minor(0,0) + coeff_mat[0][1] * minor(0,1) + coeff_mat[0][2] * minor(0,2)\n",
    "        print(\"The det -> \", det, end =\"\\n\\n\")\n",
    "        \n",
    "\n",
    "        inv = [[0,0,0],[0,0,0],[0,0,0]]\n",
    "        for i in range(3):\n",
    "            for k in range(3):\n",
    "                inv[i][k] = minor(k, i)/det\n",
    "\n",
    "        print(\"Invrse Matrix\")\n",
    "        print(inv, end=\"\\n\\n\")\n",
    "\n",
    "        reg_consts.append(mat_mul(inv, ans))\n",
    "        print(mat_mul(inv, ans))\n",
    "        print('--------------------------------------------------------------------------')"
   ]
  },
  {
   "cell_type": "code",
   "execution_count": 24,
   "id": "ae960e70",
   "metadata": {},
   "outputs": [
    {
     "name": "stdout",
     "output_type": "stream",
     "text": [
      "Answer Matrix\n",
      "[1144.0, 6214.4400000000005, 35124.37820000001]\n",
      "\n",
      "Coefficiant Matrix\n",
      "[[198.9835, 40.029999999999994, 9], [1065.958417, 198.9835, 40.029999999999994], [6001.342495270001, 1065.958417, 198.9835]]\n",
      "\n",
      "The det ->  -7288.981781764538\n",
      "\n",
      "Invrse Matrix\n",
      "[[0.42199065004596314, -0.22339419918344403, 0.02585417355157388], [-3.858646414359656, 1.978005929614183, -0.22339419918344403], [7.943604383710679, -3.858646414359656, 0.42199065004596314]]\n",
      "\n",
      "[2.599226352938217, 31.325331398697017, -69.6840192099462]\n",
      "--------------------------------------------------------------------------\n",
      "Answer Matrix\n",
      "[1144.0, 6350.27, 36394.8653]\n",
      "\n",
      "Coefficiant Matrix\n",
      "[[212.7492, 41.980000000000004, 9], [1147.571098, 212.7492, 41.980000000000004], [6476.566173959999, 1147.571098, 212.7492]]\n",
      "\n",
      "The det ->  -3797.575434500817\n",
      "\n",
      "Invrse Matrix\n",
      "[[0.7670190213832793, -0.36784745690867954, 0.0401367669000722], [-7.305033282075087, 3.4303132853271006, -0.36784745690867954], [16.053623777492955, -7.305033282075087, 0.7670190213832793]]\n",
      "\n",
      "[2.311315184617115, 38.698826581285175, -108.03413292875484]\n",
      "--------------------------------------------------------------------------\n",
      "Answer Matrix\n",
      "[1144.0, 8276.45, 60836.103899999995]\n",
      "\n",
      "Coefficiant Matrix\n",
      "[[379.2074, 57.04, 9], [2618.058094, 379.2074, 57.04], [18609.23510822, 2618.058094, 379.2074]]\n",
      "\n",
      "The det ->  -4270.487926653586\n",
      "\n",
      "Invrse Matrix\n",
      "[[1.2962878158369853, -0.4525320720235259, 0.03730369989005774], [-16.083353677104256, 5.546172747941658, -0.4525320720235259], [47.42584016075609, -16.083353677104256, 1.2962878158369853]]\n",
      "\n",
      "[7.005956184370461, -27.023318611030845, 3.188851598330075]\n",
      "--------------------------------------------------------------------------\n"
     ]
    }
   ],
   "source": [
    "regression(9)"
   ]
  },
  {
   "cell_type": "raw",
   "id": "e7049072",
   "metadata": {},
   "source": [
    "reg_consts"
   ]
  },
  {
   "cell_type": "code",
   "execution_count": null,
   "id": "cd94376b",
   "metadata": {},
   "outputs": [],
   "source": []
  },
  {
   "cell_type": "code",
   "execution_count": null,
   "id": "c6083a91",
   "metadata": {},
   "outputs": [],
   "source": []
  }
 ],
 "metadata": {
  "kernelspec": {
   "display_name": "Python 3",
   "language": "python",
   "name": "python3"
  },
  "language_info": {
   "codemirror_mode": {
    "name": "ipython",
    "version": 3
   },
   "file_extension": ".py",
   "mimetype": "text/x-python",
   "name": "python",
   "nbconvert_exporter": "python",
   "pygments_lexer": "ipython3",
   "version": "3.9.2"
  }
 },
 "nbformat": 4,
 "nbformat_minor": 5
}
